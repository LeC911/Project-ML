{
 "cells": [
  {
   "cell_type": "markdown",
   "metadata": {},
   "source": [
    "### Печать ряда Фибоначчи до заданного элемента"
   ]
  },
  {
   "cell_type": "code",
   "execution_count": 108,
   "metadata": {
    "scrolled": true
   },
   "outputs": [
    {
     "name": "stdout",
     "output_type": "stream",
     "text": [
      "Введите номер последнего числа ряда Фибоначчи: 100\n",
      "Последовательность Фибоначчи до 100 элемента:\n",
      "1 1 2 3 5 8 13 21 34 55 89 "
     ]
    }
   ],
   "source": [
    "n = int(input('Введите номер последнего числа ряда Фибоначчи: '))\n",
    "print('Последовательность Фибоначчи до', n ,'элемента:')\n",
    "prev, foll = 0, 1\n",
    "while foll <= n:\n",
    "    prev, foll = foll, prev + foll\n",
    "    print(prev, end=' ')"
   ]
  },
  {
   "cell_type": "markdown",
   "metadata": {},
   "source": [
    "### Функция печати ряда Фибоначчи с заданными первыми элементами и максимумом"
   ]
  },
  {
   "cell_type": "code",
   "execution_count": 5,
   "metadata": {},
   "outputs": [
    {
     "name": "stdout",
     "output_type": "stream",
     "text": [
      "Последовательность Фибоначчи:\n",
      "1\n",
      "2\n",
      "3\n",
      "5\n",
      "8\n",
      "13\n",
      "21\n",
      "34\n",
      "55\n",
      "89\n"
     ]
    }
   ],
   "source": [
    "def print_fib(a,b,c):\n",
    "    print (a)\n",
    "    while b < c:\n",
    "        print(b)\n",
    "        a, b = b, a + b\n",
    "print('Последовательность Фибоначчи:')\n",
    "\n",
    "print_fib(1,2,100)"
   ]
  },
  {
   "cell_type": "markdown",
   "metadata": {},
   "source": [
    "### Пузырьковая сортировка (по возрастанию)"
   ]
  },
  {
   "cell_type": "code",
   "execution_count": 1,
   "metadata": {},
   "outputs": [
    {
     "name": "stdout",
     "output_type": "stream",
     "text": [
      "Введите элементы списка через пробел: 3 4 -7 0 15 289\n",
      "Отсортированный список: -7 0 3 4 15 289\n"
     ]
    }
   ],
   "source": [
    "lst = list(map(int,input('Введите элементы списка через пробел: ').split()))\n",
    "for i in range(len(lst) - 1):\n",
    "    for j in range(len(lst) - i - 1):\n",
    "        if lst[j] > lst[j+1]: lst[j], lst[j+1] = lst[j+1], lst[j]\n",
    "print('Отсортированный список:',*lst)"
   ]
  },
  {
   "cell_type": "markdown",
   "metadata": {},
   "source": [
    "### Заполнение массива (n x n) улиткой (спиралью)"
   ]
  },
  {
   "cell_type": "code",
   "execution_count": 2,
   "metadata": {},
   "outputs": [
    {
     "name": "stdout",
     "output_type": "stream",
     "text": [
      "Введите размерность матрицы (n * n): 5\n",
      "0\t1\t2\t3\t4\n",
      "15\t16\t17\t18\t5\n",
      "14\t23\t24\t19\t6\n",
      "13\t22\t21\t20\t7\n",
      "12\t11\t10\t9\t8\n"
     ]
    }
   ],
   "source": [
    "n = int(input('Введите размерность матрицы (n * n): '))\n",
    "a = [[0]*n for i in range(n)]\n",
    "i, j = 0, 0\n",
    "x = 0\n",
    "while x < n*n:\n",
    "    a[i][j] = x\n",
    "    if i <= j+1 and i+j < n-1: j += 1\n",
    "    elif i < j and i+j >= n-1: i += 1\n",
    "    elif i >= j and i+j > n-1: j -= 1\n",
    "    elif i > j+1 and i+j <= n-1: i -= 1\n",
    "    x += 1\n",
    "for i in range(n):\n",
    "    print(*a[i],sep='\\t')"
   ]
  }
 ],
 "metadata": {
  "kernelspec": {
   "display_name": "Python 3",
   "language": "python",
   "name": "python3"
  },
  "language_info": {
   "codemirror_mode": {
    "name": "ipython",
    "version": 3
   },
   "file_extension": ".py",
   "mimetype": "text/x-python",
   "name": "python",
   "nbconvert_exporter": "python",
   "pygments_lexer": "ipython3",
   "version": "3.8.5"
  }
 },
 "nbformat": 4,
 "nbformat_minor": 4
}
